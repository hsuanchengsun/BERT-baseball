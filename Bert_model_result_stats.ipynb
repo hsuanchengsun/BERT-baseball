{
 "cells": [
  {
   "cell_type": "code",
   "execution_count": null,
   "metadata": {},
   "outputs": [],
   "source": [
    "import matplotlib.pyplot as plt\n",
    "import numpy as np\n",
    "import pandas as pd"
   ]
  },
  {
   "cell_type": "code",
   "execution_count": null,
   "metadata": {},
   "outputs": [],
   "source": [
    "# read data\n",
    "\n",
    "A = pd.read_csv(\"training_progress_scores_bert-base-cased.csv\")#epoch20 batch14\n",
    "B = pd.read_csv(\"training_progress_scores_bert-base-uncased.csv\")#epoch20 batch14\n",
    "E = pd.read_csv(\"training_progress_scores_bert-base-multilingual-cased.csv\")#epoch20 batch14\n",
    "F = pd.read_csv(\"training_progress_scores_bert-base-multilingual-uncased.csv\")#epoch20 batch14"
   ]
  },
  {
   "cell_type": "code",
   "execution_count": null,
   "metadata": {},
   "outputs": [],
   "source": [
    "# plot training loss\n",
    "\n",
    "plt.figure(figsize=(12,6))\n",
    "\n",
    "plt.plot(A.eval_loss.values)\n",
    "plt.plot(B.eval_loss.values)\n",
    "plt.plot(E.eval_loss.values)\n",
    "plt.plot(F.eval_loss.values)\n",
    "\n",
    "\n",
    "plt.title('bert_model_eval_loss')\n",
    "plt.ylabel('loss')\n",
    "plt.xlabel('epoch')\n",
    "plt.legend(['base-c', 'base-u', 'base-multilingual-c', 'base-multilingual-u'], bbox_to_anchor=(1, 1))\n",
    "#plt.savefig('bert_model_eval_loss_step.png')"
   ]
  },
  {
   "cell_type": "code",
   "execution_count": null,
   "metadata": {},
   "outputs": [],
   "source": [
    "# plot training acc\n",
    "\n",
    "plt.figure(figsize=(12,6))\n",
    "\n",
    "plt.plot(A.acc.values)\n",
    "plt.plot(B.acc.values)\n",
    "plt.plot(E.acc.values)\n",
    "plt.plot(F.acc.values)\n",
    "\n",
    "plt.title('bert_model_acc')\n",
    "plt.ylabel('acc')\n",
    "plt.xlabel('epoch')\n",
    "plt.legend(['base-c', 'base-u', 'base-multilingual-c', 'base-multilingual-u'], bbox_to_anchor=(1, 1))\n",
    "#plt.savefig('bert_model_acc_step.png')"
   ]
  },
  {
   "cell_type": "code",
   "execution_count": null,
   "metadata": {},
   "outputs": [],
   "source": [
    "# plot testing loss\n",
    "\n",
    "plt.figure(figsize=(12,6))\n",
    "\n",
    "plt.plot(A.global_step.values, A.eval_loss.values)\n",
    "plt.plot(B.global_step.values, B.eval_loss.values)\n",
    "plt.plot(E.global_step.values, E.eval_loss.values)\n",
    "plt.plot(F.global_step.values, F.eval_loss.values)\n",
    "\n",
    "\n",
    "plt.title('bert_model_eval_loss')\n",
    "plt.ylabel('loss')\n",
    "plt.xlabel('global_step')\n",
    "plt.legend(['base-c', 'base-u', 'base-multilingual-c', 'base-multilingual-u'], bbox_to_anchor=(1, 1))\n",
    "#plt.savefig('bert_model_eval_loss_step.png')"
   ]
  },
  {
   "cell_type": "code",
   "execution_count": null,
   "metadata": {},
   "outputs": [],
   "source": [
    "# plot testing acc\n",
    "\n",
    "plt.figure(figsize=(12,6))\n",
    "\n",
    "plt.plot(A.global_step.values, A.acc.values)\n",
    "plt.plot(B.global_step.values, B.acc.values)\n",
    "plt.plot(E.global_step.values, E.acc.values)\n",
    "plt.plot(F.global_step.values, F.acc.values)\n",
    "\n",
    "plt.title('bert_model_acc')\n",
    "plt.ylabel('acc')\n",
    "plt.xlabel('global_step')\n",
    "plt.legend(['base-c', 'base-u', 'base-multilingual-c', 'base-multilingual-u'], bbox_to_anchor=(1, 1))\n",
    "#plt.savefig('bert_model_acc_step.png')"
   ]
  },
  {
   "cell_type": "code",
   "execution_count": null,
   "metadata": {},
   "outputs": [],
   "source": [
    "# read result\n",
    "\n",
    "a = pd.read_csv(\"test_result_bert-base-cased.csv\")\n",
    "b = pd.read_csv(\"test_result_bert-base-uncased.csv\")\n",
    "e = pd.read_csv(\"test_result_bert-base-multilingual-cased.csv\")\n",
    "f = pd.read_csv(\"test_result_bert-base-multilingual-uncased.csv\")"
   ]
  },
  {
   "cell_type": "code",
   "execution_count": null,
   "metadata": {},
   "outputs": [],
   "source": [
    "y_test_load = pd.read_csv('y_2018.csv', delimiter=',')\n",
    "numTestSize = y_test_load.shape[0]\n",
    "y_test = y_test_load\n",
    "y_test_TY = y_test.astype('int').values\n",
    "for k in range(numTestSize):\n",
    "    y_test_TY[k] = np.floor(y_test_TY[k]/5)# each interval is 5 HR"
   ]
  },
  {
   "cell_type": "code",
   "execution_count": null,
   "metadata": {},
   "outputs": [],
   "source": [
    "# confusion matrix\n",
    "\n",
    "pd.crosstab(y_test_TY.reshape(-1), a['0'].values, rownames= [\"answer\"], colnames= [\"predict\"])"
   ]
  },
  {
   "cell_type": "code",
   "execution_count": null,
   "metadata": {},
   "outputs": [],
   "source": [
    "# see rate\n",
    "\n",
    "j = 0\n",
    "k = 0\n",
    "l = 0\n",
    "for i in range(len(y_test_TY)):\n",
    "    if y_test_TY[i] == a['0'].values[i]:\n",
    "        j += 1\n",
    "    elif y_test_TY[i]+1 == a['0'].values[i]:\n",
    "        k += 1\n",
    "    elif y_test_TY[i]-1 == a['0'].values[i]:\n",
    "        l += 1\n",
    "        \n",
    "print(\"準確率：%.4f\" % (j/len(y_test_TY)))\n",
    "print(\"高估率：%.4f\" % (k/len(y_test_TY)))\n",
    "print(\"低估率：%.4f\" % (l/len(y_test_TY)))\n",
    "print(\"總和：%.4f\" % ((j+k+l)/len(y_test_TY)))"
   ]
  }
 ],
 "metadata": {
  "kernelspec": {
   "display_name": "Python 3",
   "language": "python",
   "name": "python3"
  },
  "language_info": {
   "codemirror_mode": {
    "name": "ipython",
    "version": 3
   },
   "file_extension": ".py",
   "mimetype": "text/x-python",
   "name": "python",
   "nbconvert_exporter": "python",
   "pygments_lexer": "ipython3",
   "version": "3.6.0"
  }
 },
 "nbformat": 4,
 "nbformat_minor": 2
}
